{
 "cells": [
  {
   "cell_type": "code",
   "execution_count": 1,
   "metadata": {},
   "outputs": [],
   "source": [
    "import numpy as np\n",
    "import pandas as pd\n",
    "import nltk\n",
    "#nltk.download('punkt') # one time execution\n",
    "#nltk.download(\"stopwords\")\n",
    "import re\n",
    "#f=open(r\"C:/Users/Anish Bhagat/Desktop/internship/Excerpt1.txt\",\"r\")"
   ]
  },
  {
   "cell_type": "code",
   "execution_count": 3,
   "metadata": {},
   "outputs": [],
   "source": [
    "f=open(\"C:/Users/Sarthak Mehta/Desktop/New Text Document.txt\", \"r\")"
   ]
  },
  {
   "cell_type": "code",
   "execution_count": 4,
   "metadata": {},
   "outputs": [],
   "source": [
    "para=f.read().split('\\n\\n')"
   ]
  },
  {
   "cell_type": "code",
   "execution_count": 5,
   "metadata": {},
   "outputs": [],
   "source": [
    "l=[]\n",
    "t=0\n",
    "for i in para:\n",
    "    l.append([])\n",
    "    l[t]=i.split('.')\n",
    "    t=t+1"
   ]
  },
  {
   "cell_type": "code",
   "execution_count": 6,
   "metadata": {
    "collapsed": true
   },
   "outputs": [
    {
     "name": "stdout",
     "output_type": "stream",
     "text": [
      "Gravity, also called gravitation, in mechanics, the universal force of attraction acting between all matter.   It is by far the weakest known force in nature and thus plays no role in determining the internal properties of everyday matter.   On the other hand, through its long reach and universal action, it controls the trajectories of bodies in the solar system and elsewhere in the universe and the structures and evolution of stars, galaxies, and the whole cosmos.   On Earth all bodies have a weight, or downward force of gravity, proportional to their mass, which Earth's mass exerts on them.   Gravity is measured by the acceleration that it gives to freely falling objects.   At Earth's surface the acceleration of gravity is about 9.  8 metres (32 feet) per second per second.   Thus, for every second an object is in free fall, its speed increases by about 9.  8 metres per second.   At the surface of the Moon the acceleration of a freely falling body is about 1.  6 metres per second per second.   The works of Isaac Newton and Albert Einstein dominate the development of gravitational theory.   NewtonÃ¢â‚¬â„¢s classical theory of gravitational force held sway from his Principia, published in 1687, until EinsteinÃ¢â‚¬â„¢s work in the early 20th century.   NewtonÃ¢â‚¬â„¢s theory is sufficient even today for all but the most precise applications.   EinsteinÃ¢â‚¬â„¢s theory of general relativity predicts only minute quantitative differences from the Newtonian theory except in a few special cases.   The major significance of EinsteinÃ¢â‚¬â„¢s theory is its radical conceptual departure from classical theory and its implications for further growth in physical thought.   The launch of space vehicles and developments of research from them have led to great improvements in measurements of gravity around Earth, other planets, and the Moon and in experiments on the nature of gravitation.   Newton argued that the movements of celestial bodies and the free fall of objects on Earth are determined by the same force.   The classical Greek philosophers, on the other hand, did not consider the celestial bodies to be affected by gravity, because the bodies were observed to follow perpetually repeating nondescending trajectories in the sky.   Thus, Aristotle considered that each heavenly body followed a particular \"natural\" motion, unaffected by external causes or agents.   Aristotle also believed that massive earthly objects possess a natural tendency to move toward EarthÃ¢â‚¬â„¢s centre.   Those Aristotelian concepts prevailed for centuries along with two others: that a body moving at constant speed requires a continuous force acting on it and that force must be applied by contact rather than interaction at a distance.   These ideas were generally held until the 16th and early 17th centuries, thereby impeding an understanding of the true principles of motion and precluding the development of ideas about universal gravitation.   This impasse began to change with several scientific contributions to the problem of earthly and celestial motion, which in turn set the stage for Newton's later gravitational theory.   The 17th-century German astronomer Johannes Kepler accepted the argument of Nicolaus Copernicus (which goes back to Aristarchus of Samos) that the planets orbit the Sun, not Earth.   Using the improved measurements of planetary movements made by the Danish astronomer Tycho Brahe during the 16th century, Kepler described the planetary orbits with simple geometric and arithmetic relations.   The planets describe elliptic orbits, of which the Sun occupies one focus (a focus is one of two points inside an ellipse; any ray coming from one of them bounces off a side of the ellipse and goes through the other focus).   The line joining a planet to the Sun sweeps out equal areas in equal times.   The square of the period of revolution of a planet is proportional to the cube of its average distance from the Sun.   During this same period the Italian astronomer and natural philosopher Galileo Galilei made progress in understanding \"natural\" motion and simple accelerated motion for earthly objects.   He realized that bodies that are uninfluenced by forces continue indefinitely to move and that force is necessary to change motion, not to maintain constant motion.   In studying how objects fall toward Earth, Galileo discovered that the motion is one of constant acceleration.   He demonstrated that the distance a falling body travels from rest in this way varies as the square of the time.   As noted above, the acceleration due to gravity at the surface of Earth is about 9.  8 metres per second per second.   Galileo was also the first to show by experiment that bodies fall with the same acceleration whatever their composition (the weak principle of equivalence).   Newton discovered the relationship between the motion of the Moon and the motion of a body falling freely on Earth.   By his dynamical and gravitational theories, he explained Kepler's laws and established the modern quantitative science of gravitation.   Newton assumed the existence of an attractive force between all massive bodies, one that does not require bodily contact and that acts at a distance.   By invoking his law of inertia (bodies not acted upon by a force move at constant speed in a straight line), Newton concluded that a force exerted by Earth on the Moon is needed to keep it in a circular motion about Earth rather than moving in a straight line.   He realized that this force could be, at long range, the same as the force with which Earth pulls objects on its surface downward.   When Newton discovered that the acceleration of the Moon is 1/3, 600 smaller than the acceleration at the surface of Earth, he related the number 3,600 to the square of the radius of Earth.   The Moon's orbit has a radius of about 384,000 km (239,000 miles; approximately 60 Earth radii), and its period is 27.  3 days (its synodic period, or period measured in terms of lunar phases, is about 29.  5 days).   Newton found the Moon's inward acceleration in its orbit to be 0.  0027 metre per second per second, the same as (1/60)2 of the acceleration of a falling object at the surface of Earth. \n"
     ]
    }
   ],
   "source": [
    "import string\n",
    "sent=[]\n",
    "a=0\n",
    "for par in para:\n",
    "    sent.append([])\n",
    "    sent[a].append(par.split('.'))\n",
    "sen=[]\n",
    "for p in sent:\n",
    "    for y in p:\n",
    "        for q in y:\n",
    "            if q and q !=  'S':\n",
    "                myList = [item for item in q.split('\\n')]\n",
    "                newString = ' '.join(myList)\n",
    "                sen.append(newString)\n",
    "sentence=\"\"\n",
    "for p in sen:\n",
    "    sentence+=p+\". \"\n",
    "print(sentence)"
   ]
  },
  {
   "cell_type": "code",
   "execution_count": 7,
   "metadata": {},
   "outputs": [],
   "source": [
    "from nltk.tokenize import sent_tokenize\n",
    "s=sent_tokenize(sentence)"
   ]
  },
  {
   "cell_type": "code",
   "execution_count": 8,
   "metadata": {
    "collapsed": true
   },
   "outputs": [
    {
     "name": "stdout",
     "output_type": "stream",
     "text": [
      "['Gravity, also called gravitation, in mechanics, the universal force of attraction acting between all matter.', 'It is by far the weakest known force in nature and thus plays no role in determining the internal properties of everyday matter.', 'On the other hand, through its long reach and universal action, it controls the trajectories of bodies in the solar system and elsewhere in the universe and the structures and evolution of stars, galaxies, and the whole cosmos.', \"On Earth all bodies have a weight, or downward force of gravity, proportional to their mass, which Earth's mass exerts on them.\", 'Gravity is measured by the acceleration that it gives to freely falling objects.', \"At Earth's surface the acceleration of gravity is about 9.\", '8 metres (32 feet) per second per second.', 'Thus, for every second an object is in free fall, its speed increases by about 9.', '8 metres per second.', 'At the surface of the Moon the acceleration of a freely falling body is about 1.', '6 metres per second per second.', 'The works of Isaac Newton and Albert Einstein dominate the development of gravitational theory.', 'NewtonÃ¢â‚¬â„¢s classical theory of gravitational force held sway from his Principia, published in 1687, until EinsteinÃ¢â‚¬â„¢s work in the early 20th century.', 'NewtonÃ¢â‚¬â„¢s theory is sufficient even today for all but the most precise applications.', 'EinsteinÃ¢â‚¬â„¢s theory of general relativity predicts only minute quantitative differences from the Newtonian theory except in a few special cases.', 'The major significance of EinsteinÃ¢â‚¬â„¢s theory is its radical conceptual departure from classical theory and its implications for further growth in physical thought.', 'The launch of space vehicles and developments of research from them have led to great improvements in measurements of gravity around Earth, other planets, and the Moon and in experiments on the nature of gravitation.', 'Newton argued that the movements of celestial bodies and the free fall of objects on Earth are determined by the same force.', 'The classical Greek philosophers, on the other hand, did not consider the celestial bodies to be affected by gravity, because the bodies were observed to follow perpetually repeating nondescending trajectories in the sky.', 'Thus, Aristotle considered that each heavenly body followed a particular \"natural\" motion, unaffected by external causes or agents.', 'Aristotle also believed that massive earthly objects possess a natural tendency to move toward EarthÃ¢â‚¬â„¢s centre.', 'Those Aristotelian concepts prevailed for centuries along with two others: that a body moving at constant speed requires a continuous force acting on it and that force must be applied by contact rather than interaction at a distance.', 'These ideas were generally held until the 16th and early 17th centuries, thereby impeding an understanding of the true principles of motion and precluding the development of ideas about universal gravitation.', \"This impasse began to change with several scientific contributions to the problem of earthly and celestial motion, which in turn set the stage for Newton's later gravitational theory.\", 'The 17th-century German astronomer Johannes Kepler accepted the argument of Nicolaus Copernicus (which goes back to Aristarchus of Samos) that the planets orbit the Sun, not Earth.', 'Using the improved measurements of planetary movements made by the Danish astronomer Tycho Brahe during the 16th century, Kepler described the planetary orbits with simple geometric and arithmetic relations.', 'The planets describe elliptic orbits, of which the Sun occupies one focus (a focus is one of two points inside an ellipse; any ray coming from one of them bounces off a side of the ellipse and goes through the other focus).', 'The line joining a planet to the Sun sweeps out equal areas in equal times.', 'The square of the period of revolution of a planet is proportional to the cube of its average distance from the Sun.', 'During this same period the Italian astronomer and natural philosopher Galileo Galilei made progress in understanding \"natural\" motion and simple accelerated motion for earthly objects.', 'He realized that bodies that are uninfluenced by forces continue indefinitely to move and that force is necessary to change motion, not to maintain constant motion.', 'In studying how objects fall toward Earth, Galileo discovered that the motion is one of constant acceleration.', 'He demonstrated that the distance a falling body travels from rest in this way varies as the square of the time.', 'As noted above, the acceleration due to gravity at the surface of Earth is about 9.', '8 metres per second per second.', 'Galileo was also the first to show by experiment that bodies fall with the same acceleration whatever their composition (the weak principle of equivalence).', 'Newton discovered the relationship between the motion of the Moon and the motion of a body falling freely on Earth.', \"By his dynamical and gravitational theories, he explained Kepler's laws and established the modern quantitative science of gravitation.\", 'Newton assumed the existence of an attractive force between all massive bodies, one that does not require bodily contact and that acts at a distance.', 'By invoking his law of inertia (bodies not acted upon by a force move at constant speed in a straight line), Newton concluded that a force exerted by Earth on the Moon is needed to keep it in a circular motion about Earth rather than moving in a straight line.', 'He realized that this force could be, at long range, the same as the force with which Earth pulls objects on its surface downward.', 'When Newton discovered that the acceleration of the Moon is 1/3, 600 smaller than the acceleration at the surface of Earth, he related the number 3,600 to the square of the radius of Earth.', \"The Moon's orbit has a radius of about 384,000 km (239,000 miles; approximately 60 Earth radii), and its period is 27.\", '3 days (its synodic period, or period measured in terms of lunar phases, is about 29.', '5 days).', \"Newton found the Moon's inward acceleration in its orbit to be 0.\", '0027 metre per second per second, the same as (1/60)2 of the acceleration of a falling object at the surface of Earth.']\n"
     ]
    }
   ],
   "source": [
    "print(s)"
   ]
  },
  {
   "cell_type": "code",
   "execution_count": 9,
   "metadata": {},
   "outputs": [],
   "source": [
    "word_embeddings = {}\n",
    "f = open(\"C:/Users/Sarthak Mehta/Desktop/New Text Document.txt\", \"r\")\n",
    "for line in f:\n",
    "    values = line.split()\n",
    "    word = values[0]\n",
    "    coefs = np.asarray(values[1:])\n",
    "    word_embeddings[word] = coefs\n",
    "f.close()"
   ]
  },
  {
   "cell_type": "code",
   "execution_count": 10,
   "metadata": {},
   "outputs": [],
   "source": [
    "# remove punctuations, numbers and special characters\n",
    "clean_sentences = pd.Series(s).str.replace(\"[^a-zA-Z]\", \" \")\n",
    "\n",
    "# make alphabets lowercase\n",
    "clean_sentences = [s.lower() for s in clean_sentences]"
   ]
  },
  {
   "cell_type": "code",
   "execution_count": 11,
   "metadata": {},
   "outputs": [],
   "source": [
    "from nltk.corpus import stopwords\n",
    "stop_words=stopwords.words('english')\n",
    "d = []\n",
    "stop_words.append(i for i in d)"
   ]
  },
  {
   "cell_type": "code",
   "execution_count": 12,
   "metadata": {},
   "outputs": [],
   "source": [
    "def stop(sen):\n",
    "    sen=\" \".join([i for i in sen if i not in stop_words])\n",
    "    return sen"
   ]
  },
  {
   "cell_type": "code",
   "execution_count": 13,
   "metadata": {},
   "outputs": [],
   "source": [
    "clean=[stop(r.split())for r in s]"
   ]
  },
  {
   "cell_type": "code",
   "execution_count": 14,
   "metadata": {},
   "outputs": [],
   "source": [
    "sentence_vectors = []\n",
    "for i in clean_sentences:\n",
    "    if len(i) != 0:\n",
    "        v = sum([word_embeddings.get(w, np.zeros((100,))) for w in i.split()])/(len(i.split())+0.001)\n",
    "    else:\n",
    "        v = np.zeros((100,))\n",
    "    sentence_vectors.append(v)"
   ]
  },
  {
   "cell_type": "code",
   "execution_count": 15,
   "metadata": {},
   "outputs": [],
   "source": [
    "# similarity matrix\n",
    "sim_mat = np.zeros([len(s), len(s)])"
   ]
  },
  {
   "cell_type": "code",
   "execution_count": 16,
   "metadata": {},
   "outputs": [],
   "source": [
    "from sklearn.metrics.pairwise import cosine_similarity"
   ]
  },
  {
   "cell_type": "code",
   "execution_count": 17,
   "metadata": {},
   "outputs": [],
   "source": [
    "for i in range(len(s)):\n",
    "  for j in range(len(s)):\n",
    "    if i != j:\n",
    "      sim_mat[i][j] = cosine_similarity(sentence_vectors[i].reshape(1,100), sentence_vectors[j].reshape(1,100))[0,0]"
   ]
  },
  {
   "cell_type": "code",
   "execution_count": 18,
   "metadata": {},
   "outputs": [],
   "source": [
    "import networkx as nx\n",
    "\n",
    "nx_graph = nx.from_numpy_array(sim_mat)\n",
    "scores = nx.pagerank(nx_graph)"
   ]
  },
  {
   "cell_type": "code",
   "execution_count": 19,
   "metadata": {},
   "outputs": [],
   "source": [
    "ranked_sentences = sorted(((scores[i],s) for i,s in enumerate(s)), reverse=True)"
   ]
  },
  {
   "cell_type": "code",
   "execution_count": 20,
   "metadata": {
    "collapsed": true
   },
   "outputs": [
    {
     "name": "stdout",
     "output_type": "stream",
     "text": [
      "When Newton discovered that the acceleration of the Moon is 1/3, 600 smaller than the acceleration at the surface of Earth, he related the number 3,600 to the square of the radius of Earth.\n",
      "Using the improved measurements of planetary movements made by the Danish astronomer Tycho Brahe during the 16th century, Kepler described the planetary orbits with simple geometric and arithmetic relations.\n",
      "Thus, for every second an object is in free fall, its speed increases by about 9.\n",
      "Thus, Aristotle considered that each heavenly body followed a particular \"natural\" motion, unaffected by external causes or agents.\n",
      "Those Aristotelian concepts prevailed for centuries along with two others: that a body moving at constant speed requires a continuous force acting on it and that force must be applied by contact rather than interaction at a distance.\n",
      "This impasse began to change with several scientific contributions to the problem of earthly and celestial motion, which in turn set the stage for Newton's later gravitational theory.\n",
      "These ideas were generally held until the 16th and early 17th centuries, thereby impeding an understanding of the true principles of motion and precluding the development of ideas about universal gravitation.\n",
      "The works of Isaac Newton and Albert Einstein dominate the development of gravitational theory.\n",
      "The square of the period of revolution of a planet is proportional to the cube of its average distance from the Sun.\n",
      "The planets describe elliptic orbits, of which the Sun occupies one focus (a focus is one of two points inside an ellipse; any ray coming from one of them bounces off a side of the ellipse and goes through the other focus).\n"
     ]
    }
   ],
   "source": [
    "# Extract top 10 sentences as the summary\n",
    "for i in range(10):\n",
    "  print(ranked_sentences[i][1])"
   ]
  },
  {
   "cell_type": "code",
   "execution_count": 21,
   "metadata": {},
   "outputs": [
    {
     "name": "stdout",
     "output_type": "stream",
     "text": [
      "Thus, for every second an object is in free fall, its speed increases by about 9.\n",
      "The works of Isaac Newton and Albert Einstein dominate the development of gravitational theory.\n",
      "Thus, Aristotle considered that each heavenly body followed a particular \"natural\" motion, unaffected by external causes or agents.\n",
      "Those Aristotelian concepts prevailed for centuries along with two others: that a body moving at constant speed requires a continuous force acting on it and that force must be applied by contact rather than interaction at a distance.\n",
      "These ideas were generally held until the 16th and early 17th centuries, thereby impeding an understanding of the true principles of motion and precluding the development of ideas about universal gravitation.\n",
      "This impasse began to change with several scientific contributions to the problem of earthly and celestial motion, which in turn set the stage for Newton's later gravitational theory.\n",
      "Using the improved measurements of planetary movements made by the Danish astronomer Tycho Brahe during the 16th century, Kepler described the planetary orbits with simple geometric and arithmetic relations.\n",
      "The planets describe elliptic orbits, of which the Sun occupies one focus (a focus is one of two points inside an ellipse; any ray coming from one of them bounces off a side of the ellipse and goes through the other focus).\n",
      "The square of the period of revolution of a planet is proportional to the cube of its average distance from the Sun.\n",
      "When Newton discovered that the acceleration of the Moon is 1/3, 600 smaller than the acceleration at the surface of Earth, he related the number 3,600 to the square of the radius of Earth.\n"
     ]
    }
   ],
   "source": [
    "summ = []\n",
    "for i in range(10):\n",
    "    summ.append(ranked_sentences[i][1])\n",
    "for i in s:\n",
    "    if i in summ:\n",
    "        print(i)"
   ]
  },
  {
   "cell_type": "code",
   "execution_count": null,
   "metadata": {},
   "outputs": [],
   "source": []
  }
 ],
 "metadata": {
  "kernelspec": {
   "display_name": "Python 3",
   "language": "python",
   "name": "python3"
  },
  "language_info": {
   "codemirror_mode": {
    "name": "ipython",
    "version": 3
   },
   "file_extension": ".py",
   "mimetype": "text/x-python",
   "name": "python",
   "nbconvert_exporter": "python",
   "pygments_lexer": "ipython3",
   "version": "3.7.1"
  }
 },
 "nbformat": 4,
 "nbformat_minor": 2
}
