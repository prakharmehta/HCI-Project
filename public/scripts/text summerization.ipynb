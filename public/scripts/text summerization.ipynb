{
 "cells": [
  {
   "cell_type": "code",
   "execution_count": 1,
   "metadata": {},
   "outputs": [
    {
     "output_type": "error",
     "ename": "ModuleNotFoundError",
     "evalue": "No module named 'numpy'",
     "traceback": [
      "\u001b[0;31m---------------------------------------------------------------------------\u001b[0m",
      "\u001b[0;31mModuleNotFoundError\u001b[0m                       Traceback (most recent call last)",
      "\u001b[0;32m<ipython-input-1-34ae11788ad8>\u001b[0m in \u001b[0;36m<module>\u001b[0;34m\u001b[0m\n\u001b[0;32m----> 1\u001b[0;31m \u001b[0;32mimport\u001b[0m \u001b[0mnumpy\u001b[0m \u001b[0;32mas\u001b[0m \u001b[0mnp\u001b[0m\u001b[0;34m\u001b[0m\u001b[0;34m\u001b[0m\u001b[0m\n\u001b[0m\u001b[1;32m      2\u001b[0m \u001b[0;32mimport\u001b[0m \u001b[0mpandas\u001b[0m \u001b[0;32mas\u001b[0m \u001b[0mpd\u001b[0m\u001b[0;34m\u001b[0m\u001b[0;34m\u001b[0m\u001b[0m\n\u001b[1;32m      3\u001b[0m \u001b[0;32mimport\u001b[0m \u001b[0mnltk\u001b[0m\u001b[0;34m\u001b[0m\u001b[0;34m\u001b[0m\u001b[0m\n\u001b[1;32m      4\u001b[0m \u001b[0mnltk\u001b[0m\u001b[0;34m.\u001b[0m\u001b[0mdownload\u001b[0m\u001b[0;34m(\u001b[0m\u001b[0;34m'punkt'\u001b[0m\u001b[0;34m)\u001b[0m \u001b[0;31m# one time execution\u001b[0m\u001b[0;34m\u001b[0m\u001b[0;34m\u001b[0m\u001b[0m\n\u001b[1;32m      5\u001b[0m \u001b[0;32mimport\u001b[0m \u001b[0mre\u001b[0m\u001b[0;34m\u001b[0m\u001b[0;34m\u001b[0m\u001b[0m\n",
      "\u001b[0;31mModuleNotFoundError\u001b[0m: No module named 'numpy'"
     ]
    }
   ],
   "source": [
    "import numpy as np\n",
    "import pandas as pd\n",
    "import nltk\n",
    "nltk.download('punkt') # one time execution\n",
    "import re\n",
    "f=open(r\"C:/Users/Anish Bhagat/Desktop/internship/Excerpt1.txt\",\"r\")"
   ]
  },
  {
   "cell_type": "code",
   "execution_count": 7,
   "metadata": {},
   "outputs": [],
   "source": [
    "para=f.read().split('\\n\\n')"
   ]
  },
  {
   "cell_type": "code",
   "execution_count": 8,
   "metadata": {},
   "outputs": [],
   "source": [
    "l=[]\n",
    "t=0\n",
    "for i in para:\n",
    "    l.append([])\n",
    "    l[t]=i.split('.')\n",
    "    t=t+1"
   ]
  },
  {
   "cell_type": "code",
   "execution_count": 9,
   "metadata": {},
   "outputs": [
    {
     "name": "stdout",
     "output_type": "stream",
     "text": [
      "Start Small and Monopolize Every startup is small at the start.  Every monopoly dominates a large share of its market.  Therefore, every startup should start with a very small market.  Always err on the side of starting too small.  The reason is simple: it’s easier to dominate a small market than a large one.  If you think your initial market might be too big, it almost certainly is.  Small doesn’t mean nonexistent.  We made this mistake early on at PayPal.  Our first product let people beam money to each other via PalmPilots.  It was interesting technology and no one else was doing it.  However, the world’s millions of PalmPilot users weren’t concentrated in a particular place, they had little in common, and they used their devices only episodically.  Nobody needed our product, so we had no customers.  With that lesson learned, we set our sights on eBay auctions, where we found our first success.  In late 1999, eBay had a few thousand high-volume “PowerSellers,” and after only three months of dedicated effort, we were serving 25% of them.  It was much easier to reach a few thousand people who really needed our product than to try to compete for the attention of millions of scattered individuals.  The perfect target market for a startup is a small group of particular people concentrated together and served by few or no competitors.  Any big market is a bad choice, and a big market already served by competing companies is even worse.  This is why it’s always a red flag when entrepreneurs talk about getting 1% of a $100 billion market.  In practice, a large market will either lack a good starting point or it will be open to competition, so it’s hard to ever reach that 1%.  And even if you do succeed in gaining a small foothold, you’ll have to be satisfied with keeping the lights on: cutthroat competition means your profits will be zero.  Scaling Up Once you create and dominate a niche market, then you should gradually expand into related and slightly broader markets.  Amazon shows how it can be done.  Jeff Bezos’s founding vision was to dominate all of online retail, but he very deliberately started with books.  There were millions of books to catalog, but they all had roughly the same shape, they were easy to ship, and some of the most rarely sold books—those least profitable for any retail store to keep in stock—also drew the most enthusiastic customers.  Amazon became the dominant solution for anyone located far from a bookstore or seeking something unusual.  Amazon then had two options: expand the number of people who read books, or expand to adjacent markets.  They chose the latter, starting with the most similar markets: CDs, videos, and software.  Amazon continued to add categories gradually until it had become the world’s general store.  The name itself brilliantly encapsulated the company’s scaling strategy.  The biodiversity of the Amazon rain forest reflected Amazon’s first goal of cataloging every book in the world, and now it stands for every kind of thing in the world, period.  eBay also started by dominating small niche markets.  When it launched its auction marketplace in 1995, it didn’t need the whole world to adopt it at once; the product worked well for intense interest groups, like Beanie Baby obsessives.  Once it monopolized the Beanie Baby trade, eBay didn’t jump straight to listing sports cars or industrial surplus: it continued to cater to small-time hobbyists until it became the most reliable marketplace for people trading online no matter what the item.  Sometimes there are hidden obstacles to scaling—a lesson that eBay has learned in recent years.  Like all marketplaces, the auction marketplace lent itself to natural monopoly because buyers go where the sellers are and vice versa.  But eBay found that the auction model works best for individually distinctive products like coins and stamps.  It works less well for commodity products: people don’t want to bid on pencils or Kleenex, so it’s more convenient just to buy them from Amazon.  eBay is still a valuable monopoly; it’s just smaller than people in 2004 expected it to be.  Sequencing markets correctly is underrated, and it takes discipline to expand gradually.  The most successful companies make the core progression—to first dominate a specific niche and then scale to adjacent markets—a part of their founding narrative.  Don’t Disrupt Silicon Valley has become obsessed with “disruption. ” Originally, “disruption” was a term of art to describe how a firm can use new technology to introduce a low-end product at low prices, improve the product over time, and eventually overtake even the premium products offered by incumbent companies using older technology.  This is roughly what happened when the advent of PCs disrupted the market for mainframe computers: at first PCs seemed irrelevant, then they became dominant.  Today mobile devices may be doing the same thing to PCs.  However, disruption has recently transmogrified into a self-congratulatory buzzword for anything posing as trendy and new.  This seemingly trivial fad matters because it distorts an entrepreneur’s selfunderstanding in an inherently competitive way.  The concept was coined to describe threats to incumbent companies, so startups’ obsession with disruption means they see themselves through older firms’ eyes.  If you think of yourself as an insurgent battling dark forces, it’s easy to become unduly fixated on the obstacles in your path.  But if you truly want to make something new, the act of creation is far more important than the old industries that might not like what you create.  Indeed, if your company can be summed up by its opposition to already existing firms, it can’t be completely new and it’s probably not going to become a monopoly.  Disruption also attracts attention: disruptors are people who look for trouble and find it.  Disruptive kids get sent to the principal’s office.  Disruptive companies often pick fights they can’t win.  Think of Napster: the name itself meant trouble.  What kinds of things can one “nap”? Music … Kids … and perhaps not much else.  Shawn Fanning and Sean Parker, Napster’s then-teenage founders, credibly threatened to disrupt the powerful music recording industry in 1999.  The next year, they made the cover of Time magazine.  A year and a half after that, they ended up in bankruptcy court.  PayPal could be seen as disruptive, but we didn’t try to directly challenge any large competitor.  It’s true that we took some business away from Visa when we popularized internet payments: you might use PayPal to buy something online instead of using your Visa card to buy it in a store.  But since we expanded the market for payments overall, we gave Visa far more business than we took.  The overall dynamic was net positive, unlike Napster’s negative-sum struggle with the U.  recording industry.  As you craft a plan to expand to adjacent markets, don’t disrupt: avoid competition as much as possible. \n"
     ]
    }
   ],
   "source": [
    "import string\n",
    "sent=[]\n",
    "a=0\n",
    "for par in para:\n",
    "    sent.append([])\n",
    "    sent[a].append(par.split('.'))\n",
    "sen=[]\n",
    "for p in sent:\n",
    "    for y in p:\n",
    "        for q in y:\n",
    "            if q and q !=  'S':\n",
    "                myList = [item for item in q.split('\\n')]\n",
    "                newString = ' '.join(myList)\n",
    "                sen.append(newString)\n",
    "sentence=\"\"\n",
    "for p in sen:\n",
    "    sentence+=p+\". \"\n",
    "print(sentence)"
   ]
  },
  {
   "cell_type": "code",
   "execution_count": 13,
   "metadata": {},
   "outputs": [],
   "source": [
    "from nltk.tokenize import sent_tokenize\n",
    "s=sent_tokenize(sentence)"
   ]
  },
  {
   "cell_type": "code",
   "execution_count": 14,
   "metadata": {},
   "outputs": [
    {
     "name": "stdout",
     "output_type": "stream",
     "text": [
      "['Start Small and Monopolize Every startup is small at the start.', 'Every monopoly dominates a large share of its market.', 'Therefore, every startup should start with a very small market.', 'Always err on the side of starting too small.', 'The reason is simple: it’s easier to dominate a small market than a large one.', 'If you think your initial market might be too big, it almost certainly is.', 'Small doesn’t mean nonexistent.', 'We made this mistake early on at PayPal.', 'Our first product let people beam money to each other via PalmPilots.', 'It was interesting technology and no one else was doing it.', 'However, the world’s millions of PalmPilot users weren’t concentrated in a particular place, they had little in common, and they used their devices only episodically.', 'Nobody needed our product, so we had no customers.', 'With that lesson learned, we set our sights on eBay auctions, where we found our first success.', 'In late 1999, eBay had a few thousand high-volume “PowerSellers,” and after only three months of dedicated effort, we were serving 25% of them.', 'It was much easier to reach a few thousand people who really needed our product than to try to compete for the attention of millions of scattered individuals.', 'The perfect target market for a startup is a small group of particular people concentrated together and served by few or no competitors.', 'Any big market is a bad choice, and a big market already served by competing companies is even worse.', 'This is why it’s always a red flag when entrepreneurs talk about getting 1% of a $100 billion market.', 'In practice, a large market will either lack a good starting point or it will be open to competition, so it’s hard to ever reach that 1%.', 'And even if you do succeed in gaining a small foothold, you’ll have to be satisfied with keeping the lights on: cutthroat competition means your profits will be zero.', 'Scaling Up Once you create and dominate a niche market, then you should gradually expand into related and slightly broader markets.', 'Amazon shows how it can be done.', 'Jeff Bezos’s founding vision was to dominate all of online retail, but he very deliberately started with books.', 'There were millions of books to catalog, but they all had roughly the same shape, they were easy to ship, and some of the most rarely sold books—those least profitable for any retail store to keep in stock—also drew the most enthusiastic customers.', 'Amazon became the dominant solution for anyone located far from a bookstore or seeking something unusual.', 'Amazon then had two options: expand the number of people who read books, or expand to adjacent markets.', 'They chose the latter, starting with the most similar markets: CDs, videos, and software.', 'Amazon continued to add categories gradually until it had become the world’s general store.', 'The name itself brilliantly encapsulated the company’s scaling strategy.', 'The biodiversity of the Amazon rain forest reflected Amazon’s first goal of cataloging every book in the world, and now it stands for every kind of thing in the world, period.', 'eBay also started by dominating small niche markets.', 'When it launched its auction marketplace in 1995, it didn’t need the whole world to adopt it at once; the product worked well for intense interest groups, like Beanie Baby obsessives.', 'Once it monopolized the Beanie Baby trade, eBay didn’t jump straight to listing sports cars or industrial surplus: it continued to cater to small-time hobbyists until it became the most reliable marketplace for people trading online no matter what the item.', 'Sometimes there are hidden obstacles to scaling—a lesson that eBay has learned in recent years.', 'Like all marketplaces, the auction marketplace lent itself to natural monopoly because buyers go where the sellers are and vice versa.', 'But eBay found that the auction model works best for individually distinctive products like coins and stamps.', 'It works less well for commodity products: people don’t want to bid on pencils or Kleenex, so it’s more convenient just to buy them from Amazon.', 'eBay is still a valuable monopoly; it’s just smaller than people in 2004 expected it to be.', 'Sequencing markets correctly is underrated, and it takes discipline to expand gradually.', 'The most successful companies make the core progression—to first dominate a specific niche and then scale to adjacent markets—a part of their founding narrative.', 'Don’t Disrupt Silicon Valley has become obsessed with “disruption.', '” Originally, “disruption” was a term of art to describe how a firm can use new technology to introduce a low-end product at low prices, improve the product over time, and eventually overtake even the premium products offered by incumbent companies using older technology.', 'This is roughly what happened when the advent of PCs disrupted the market for mainframe computers: at first PCs seemed irrelevant, then they became dominant.', 'Today mobile devices may be doing the same thing to PCs.', 'However, disruption has recently transmogrified into a self-congratulatory buzzword for anything posing as trendy and new.', 'This seemingly trivial fad matters because it distorts an entrepreneur’s selfunderstanding in an inherently competitive way.', 'The concept was coined to describe threats to incumbent companies, so startups’ obsession with disruption means they see themselves through older firms’ eyes.', 'If you think of yourself as an insurgent battling dark forces, it’s easy to become unduly fixated on the obstacles in your path.', 'But if you truly want to make something new, the act of creation is far more important than the old industries that might not like what you create.', 'Indeed, if your company can be summed up by its opposition to already existing firms, it can’t be completely new and it’s probably not going to become a monopoly.', 'Disruption also attracts attention: disruptors are people who look for trouble and find it.', 'Disruptive kids get sent to the principal’s office.', 'Disruptive companies often pick fights they can’t win.', 'Think of Napster: the name itself meant trouble.', 'What kinds of things can one “nap”?', 'Music … Kids … and perhaps not much else.', 'Shawn Fanning and Sean Parker, Napster’s then-teenage founders, credibly threatened to disrupt the powerful music recording industry in 1999.', 'The next year, they made the cover of Time magazine.', 'A year and a half after that, they ended up in bankruptcy court.', 'PayPal could be seen as disruptive, but we didn’t try to directly challenge any large competitor.', 'It’s true that we took some business away from Visa when we popularized internet payments: you might use PayPal to buy something online instead of using your Visa card to buy it in a store.', 'But since we expanded the market for payments overall, we gave Visa far more business than we took.', 'The overall dynamic was net positive, unlike Napster’s negative-sum struggle with the U.  recording industry.', 'As you craft a plan to expand to adjacent markets, don’t disrupt: avoid competition as much as possible.']\n"
     ]
    }
   ],
   "source": [
    "print(s)"
   ]
  },
  {
   "cell_type": "code",
   "execution_count": 15,
   "metadata": {},
   "outputs": [
    {
     "name": "stderr",
     "output_type": "stream",
     "text": [
      "'wget' is not recognized as an internal or external command,\n",
      "operable program or batch file.\n",
      "'unzip' is not recognized as an internal or external command,\n",
      "operable program or batch file.\n"
     ]
    }
   ],
   "source": [
    "C:\\Users\\Anish Bhagat\\Desktop\\internship\\data\\glove.6B"
   ]
  },
  {
   "cell_type": "code",
   "execution_count": null,
   "metadata": {},
   "outputs": [],
   "source": [
    "from nltk.tokenize import sent_tokenize\n",
    "s=sent_tokenize(sentence)"
   ]
  },
  {
   "cell_type": "code",
   "execution_count": 17,
   "metadata": {},
   "outputs": [],
   "source": [
    "word_embeddings = {}\n",
    "f = open('C:/Users/Anish Bhagat/Desktop/internship/data/glove.6B/glove.6B.100d.txt', encoding='utf-8')\n",
    "for line in f:\n",
    "    values = line.split()\n",
    "    word = values[0]\n",
    "    coefs = np.asarray(values[1:], dtype='float32')\n",
    "    word_embeddings[word] = coefs\n",
    "f.close()"
   ]
  },
  {
   "cell_type": "code",
   "execution_count": 20,
   "metadata": {},
   "outputs": [],
   "source": [
    "# remove punctuations, numbers and special characters\n",
    "clean_sentences = pd.Series(s).str.replace(\"[^a-zA-Z]\", \" \")\n",
    "\n",
    "# make alphabets lowercase\n",
    "clean_sentences = [s.lower() for s in clean_sentences]"
   ]
  },
  {
   "cell_type": "code",
   "execution_count": 35,
   "metadata": {},
   "outputs": [],
   "source": [
    "from nltk.corpus import stopwords\n",
    "stop_words=stopwords.words('english')\n",
    "\n",
    "stop_words.append(i for i in d)"
   ]
  },
  {
   "cell_type": "code",
   "execution_count": 36,
   "metadata": {},
   "outputs": [],
   "source": [
    "def stop(sen):\n",
    "    sen=\" \".join([i for i in sen if i not in stop_words])\n",
    "    return sen"
   ]
  },
  {
   "cell_type": "code",
   "execution_count": 37,
   "metadata": {},
   "outputs": [],
   "source": [
    "clean=[stop(r.split())for r in s]"
   ]
  },
  {
   "cell_type": "code",
   "execution_count": 39,
   "metadata": {},
   "outputs": [],
   "source": [
    "sentence_vectors = []\n",
    "for i in clean_sentences:\n",
    "  if len(i) != 0:\n",
    "    v = sum([word_embeddings.get(w, np.zeros((100,))) for w in i.split()])/(len(i.split())+0.001)\n",
    "  else:\n",
    "    v = np.zeros((100,))\n",
    "  sentence_vectors.append(v)"
   ]
  },
  {
   "cell_type": "code",
   "execution_count": 41,
   "metadata": {},
   "outputs": [],
   "source": [
    "# similarity matrix\n",
    "sim_mat = np.zeros([len(s), len(s)])"
   ]
  },
  {
   "cell_type": "code",
   "execution_count": 42,
   "metadata": {},
   "outputs": [],
   "source": [
    "from sklearn.metrics.pairwise import cosine_similarity"
   ]
  },
  {
   "cell_type": "code",
   "execution_count": 43,
   "metadata": {},
   "outputs": [],
   "source": [
    "for i in range(len(s)):\n",
    "  for j in range(len(s)):\n",
    "    if i != j:\n",
    "      sim_mat[i][j] = cosine_similarity(sentence_vectors[i].reshape(1,100), sentence_vectors[j].reshape(1,100))[0,0]"
   ]
  },
  {
   "cell_type": "code",
   "execution_count": 44,
   "metadata": {},
   "outputs": [],
   "source": [
    "import networkx as nx\n",
    "\n",
    "nx_graph = nx.from_numpy_array(sim_mat)\n",
    "scores = nx.pagerank(nx_graph)"
   ]
  },
  {
   "cell_type": "code",
   "execution_count": 49,
   "metadata": {},
   "outputs": [],
   "source": [
    "ranked_sentences = sorted(((scores[i],s) for i,s in enumerate(s)), reverse=True)"
   ]
  },
  {
   "cell_type": "code",
   "execution_count": 51,
   "metadata": {},
   "outputs": [
    {
     "name": "stdout",
     "output_type": "stream",
     "text": [
      "When it launched its auction marketplace in 1995, it didn’t need the whole world to adopt it at once; the product worked well for intense interest groups, like Beanie Baby obsessives.\n",
      "In practice, a large market will either lack a good starting point or it will be open to competition, so it’s hard to ever reach that 1%.\n",
      "Indeed, if your company can be summed up by its opposition to already existing firms, it can’t be completely new and it’s probably not going to become a monopoly.\n",
      "Once it monopolized the Beanie Baby trade, eBay didn’t jump straight to listing sports cars or industrial surplus: it continued to cater to small-time hobbyists until it became the most reliable marketplace for people trading online no matter what the item.\n",
      "And even if you do succeed in gaining a small foothold, you’ll have to be satisfied with keeping the lights on: cutthroat competition means your profits will be zero.\n",
      "eBay is still a valuable monopoly; it’s just smaller than people in 2004 expected it to be.\n",
      "But if you truly want to make something new, the act of creation is far more important than the old industries that might not like what you create.\n",
      "There were millions of books to catalog, but they all had roughly the same shape, they were easy to ship, and some of the most rarely sold books—those least profitable for any retail store to keep in stock—also drew the most enthusiastic customers.\n",
      "However, the world’s millions of PalmPilot users weren’t concentrated in a particular place, they had little in common, and they used their devices only episodically.\n",
      "It was much easier to reach a few thousand people who really needed our product than to try to compete for the attention of millions of scattered individuals.\n",
      "The perfect target market for a startup is a small group of particular people concentrated together and served by few or no competitors.\n",
      "Any big market is a bad choice, and a big market already served by competing companies is even worse.\n",
      "The reason is simple: it’s easier to dominate a small market than a large one.\n",
      "” Originally, “disruption” was a term of art to describe how a firm can use new technology to introduce a low-end product at low prices, improve the product over time, and eventually overtake even the premium products offered by incumbent companies using older technology.\n",
      "This is why it’s always a red flag when entrepreneurs talk about getting 1% of a $100 billion market.\n"
     ]
    }
   ],
   "source": [
    "# Extract top 10 sentences as the summary\n",
    "for i in range(15):\n",
    "  print(ranked_sentences[i][1])"
   ]
  }
 ],
 "metadata": {
  "kernelspec": {
   "display_name": "Python 3",
   "language": "python",
   "name": "python3"
  },
  "language_info": {
   "codemirror_mode": {
    "name": "ipython",
    "version": 3
   },
   "file_extension": ".py",
   "mimetype": "text/x-python",
   "name": "python",
   "nbconvert_exporter": "python",
   "pygments_lexer": "ipython3",
   "version": "3.8.2-final"
  }
 },
 "nbformat": 4,
 "nbformat_minor": 2
}